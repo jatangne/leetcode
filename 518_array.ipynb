{
 "cells": [
  {
   "cell_type": "markdown",
   "metadata": {},
   "source": [
    "###  88. Merge Sorted Array\n",
    "Given two sorted integer arrays nums1 and nums2, merge nums2 into nums1 as one sorted array."
   ]
  },
  {
   "cell_type": "code",
   "execution_count": 1,
   "metadata": {
    "collapsed": true
   },
   "outputs": [],
   "source": [
    "class Solution:\n",
    "    def merge(self, nums1, m, nums2, n):\n",
    "        \"\"\"\n",
    "        :type nums1: List[int]\n",
    "        :type m: int\n",
    "        :type nums2: List[int]\n",
    "        :type n: int\n",
    "        :rtype: void Do not return anything, modify nums1 in-place instead.\n",
    "        \"\"\"\n",
    "        k = m + n -1\n",
    "        while m > 0 and n > 0:\n",
    "            if nums1[m-1] > nums2[n-1]:\n",
    "                nums1[k] = nums1[m-1]\n",
    "                m -= 1\n",
    "            else:\n",
    "                nums1[k] = nums2[n-1]\n",
    "                n -= 1\n",
    "            k -= 1\n",
    "        while n > 0:\n",
    "            nums1[k] = nums2[n-1]\n",
    "            n -= 1\n",
    "            k -= 1\n",
    "            \n",
    "    ### better one\n",
    "    def merge(self, nums1, m, nums2, n):\n",
    "        \"\"\"\n",
    "        :type nums1: List[int]\n",
    "        :type m: int\n",
    "        :type nums2: List[int]\n",
    "        :type n: int\n",
    "        :rtype: void Do not return anything, modify nums1 in-place instead.\n",
    "        \"\"\"\n",
    "        nums1[m:] = nums2[:n]\n",
    "        nums1.sort()"
   ]
  },
  {
   "cell_type": "markdown",
   "metadata": {},
   "source": [
    "### 35. Search Insert Position\n",
    "\n",
    "Given a sorted array and a target value, return the index if the target is found. If not, return the index where it would be if it were inserted in order."
   ]
  },
  {
   "cell_type": "code",
   "execution_count": 2,
   "metadata": {
    "collapsed": true
   },
   "outputs": [],
   "source": [
    "    def searchInsert(self, nums, target):\n",
    "        \"\"\"\n",
    "        :type nums: List[int]\n",
    "        :type target: int\n",
    "        :rtype: int\n",
    "        \"\"\"\n",
    "        if target <= nums[0]:\n",
    "            return 0\n",
    "        else:\n",
    "            for i in range(1, len(nums)):\n",
    "                if (target > nums[i-1]) & (target <= nums[i]):\n",
    "                    return i\n",
    "        return len(nums)"
   ]
  },
  {
   "cell_type": "markdown",
   "metadata": {},
   "source": [
    "### 167. Two Sum II - Input array is sorted\n",
    "\n",
    "Given an array of integers that is already sorted in ascending order, find two numbers such that they add up to a specific target number.\n",
    "\n",
    "The function twoSum should return indices of the two numbers such that they add up to the target, where index1 must be less than index2."
   ]
  },
  {
   "cell_type": "code",
   "execution_count": 3,
   "metadata": {
    "collapsed": true
   },
   "outputs": [],
   "source": [
    "    def twoSum(self, numbers, target):\n",
    "        \"\"\"\n",
    "        :type numbers: List[int]\n",
    "        :type target: int\n",
    "        :rtype: List[int]\n",
    "        \"\"\"\n",
    "        dic = {}\n",
    "        for i in range(len(numbers)):\n",
    "            if numbers[i] in dic:\n",
    "                return [dic[numbers[i]]+1, i+1]\n",
    "            else:\n",
    "                dic[target - numbers[i]] = i"
   ]
  },
  {
   "cell_type": "markdown",
   "metadata": {},
   "source": [
    "### 27. Remove Element\n",
    "\n",
    "Given an array nums and a value val, remove all instances of that value in-place and return the new length.\n",
    "\n",
    "Do not allocate extra space for another array, you must do this by modifying the input array in-place with O(1) extra memory.\n",
    "\n",
    "The order of elements can be changed. It doesn't matter what you leave beyond the new length."
   ]
  },
  {
   "cell_type": "code",
   "execution_count": 4,
   "metadata": {
    "collapsed": true
   },
   "outputs": [],
   "source": [
    "    def removeElement(self, nums, val):\n",
    "        \"\"\"\n",
    "        :type nums: List[int]\n",
    "        :type val: int\n",
    "        :rtype: int\n",
    "        \"\"\"\n",
    "        while val in set(nums):\n",
    "            nums.remove(val)\n",
    "        return len(nums)"
   ]
  },
  {
   "cell_type": "markdown",
   "metadata": {},
   "source": [
    "### 268. Missing Number\n",
    "\n",
    "Given an array containing n distinct numbers taken from 0, 1, 2, ..., n, find the one that is missing from the array."
   ]
  },
  {
   "cell_type": "code",
   "execution_count": 6,
   "metadata": {
    "collapsed": true
   },
   "outputs": [],
   "source": [
    "    def missingNumber(self, nums):\n",
    "        \"\"\"\n",
    "        :type nums: List[int]\n",
    "        :rtype: int\n",
    "        \"\"\"\n",
    "        n = len(nums)\n",
    "        return int((1+n)*n/2-sum(nums))\n",
    "        "
   ]
  },
  {
   "cell_type": "markdown",
   "metadata": {},
   "source": [
    "### 697. Degree of an Array\n",
    "\n",
    "Given a non-empty array of non-negative integers nums, the degree of this array is defined as the maximum frequency of any one of its elements.\n",
    "\n",
    "Your task is to find the smallest possible length of a (contiguous) subarray of nums, that has the same degree as nums."
   ]
  },
  {
   "cell_type": "code",
   "execution_count": 7,
   "metadata": {
    "collapsed": true
   },
   "outputs": [],
   "source": [
    "    def findShortestSubArray(self, nums):\n",
    "        \"\"\"\n",
    "        :type nums: List[int]\n",
    "        :rtype: int\n",
    "        \"\"\"\n",
    "        record = {}\n",
    "        freq = {}\n",
    "        for i in range(len(nums)):\n",
    "            if nums[i] in record.keys():\n",
    "                record[nums[i]].append(i)\n",
    "                freq[nums[i]] += 1\n",
    "            else:\n",
    "                record[nums[i]] = [i]\n",
    "                freq[nums[i]] =1\n",
    "        values = sorted(freq.keys(),key=lambda x:freq[x],reverse = True)\n",
    "        length = record[values[0]][-1] - record[values[0]][0] + 1\n",
    "        f = freq[values[0]]\n",
    "        for i in range(1, len(values)):\n",
    "            if freq[values[i]] < f:\n",
    "                return length\n",
    "            else:\n",
    "                newl = record[values[i]][-1] - record[values[i]][0] + 1\n",
    "                if newl < length:\n",
    "                    length = newl\n",
    "        return length"
   ]
  },
  {
   "cell_type": "markdown",
   "metadata": {},
   "source": [
    "### 217. Contains Duplicate\n",
    "\n",
    "Given an array of integers, find if the array contains any duplicates.\n",
    "\n",
    "Your function should return true if any value appears at least twice in the array, and it should return false if every element is distinct."
   ]
  },
  {
   "cell_type": "code",
   "execution_count": 8,
   "metadata": {
    "collapsed": true
   },
   "outputs": [],
   "source": [
    "    def containsDuplicate(self, nums):\n",
    "        \"\"\"\n",
    "        :type nums: List[int]\n",
    "        :rtype: bool\n",
    "        \"\"\"\n",
    "        if len(nums) > len(set(nums)):\n",
    "            return True\n",
    "        else:\n",
    "            return False"
   ]
  },
  {
   "cell_type": "markdown",
   "metadata": {},
   "source": [
    "### 830. Positions of Large Groups\n",
    "\n",
    "In a string S of lowercase letters, these letters form consecutive groups of the same character.\n",
    "\n",
    "For example, a string like S = \"abbxxxxzyy\" has the groups \"a\", \"bb\", \"xxxx\", \"z\" and \"yy\".\n",
    "\n",
    "Call a group large if it has 3 or more characters.  We would like the starting and ending positions of every large group.\n",
    "\n",
    "The final answer should be in lexicographic order."
   ]
  },
  {
   "cell_type": "code",
   "execution_count": 9,
   "metadata": {
    "collapsed": true
   },
   "outputs": [],
   "source": [
    "    def largeGroupPositions(self, S):\n",
    "        \"\"\"\n",
    "        :type S: str\n",
    "        :rtype: List[List[int]]\n",
    "        \"\"\"\n",
    "        flag =  0\n",
    "        N = len(S)\n",
    "        result = []\n",
    "        if N ==0:\n",
    "            return result\n",
    "        for i in range(1,N):\n",
    "            if S[i] != S[i-1]:\n",
    "                if (i - flag) >= 3:\n",
    "                    result.append([flag, i-1])\n",
    "                flag = i\n",
    "        if (N - flag) >= 3:\n",
    "            result.append([flag, N-1])\n",
    "        return result"
   ]
  },
  {
   "cell_type": "markdown",
   "metadata": {},
   "source": [
    "### 414. Third Maximum Number\n",
    "\n",
    "Given a non-empty array of integers, return the third maximum number in this array. If it does not exist, return the maximum number. The time complexity must be in O(n)."
   ]
  },
  {
   "cell_type": "code",
   "execution_count": 10,
   "metadata": {
    "collapsed": true
   },
   "outputs": [],
   "source": [
    "    def thirdMax(self, nums):\n",
    "        \"\"\"\n",
    "        :type nums: List[int]\n",
    "        :rtype: int\n",
    "        \"\"\"\n",
    "        nums.sort()\n",
    "        j=1\n",
    "        for i in range(len(nums)-1, 0, -1):\n",
    "            if nums[i]>nums[i-1]:\n",
    "                j+=1\n",
    "            if j==3:\n",
    "                return nums[i-1]\n",
    "        return nums[-1]"
   ]
  },
  {
   "cell_type": "code",
   "execution_count": null,
   "metadata": {
    "collapsed": true
   },
   "outputs": [],
   "source": []
  }
 ],
 "metadata": {
  "kernelspec": {
   "display_name": "Python 3",
   "language": "python",
   "name": "python3"
  },
  "language_info": {
   "codemirror_mode": {
    "name": "ipython",
    "version": 3
   },
   "file_extension": ".py",
   "mimetype": "text/x-python",
   "name": "python",
   "nbconvert_exporter": "python",
   "pygments_lexer": "ipython3",
   "version": "3.6.3"
  }
 },
 "nbformat": 4,
 "nbformat_minor": 2
}
