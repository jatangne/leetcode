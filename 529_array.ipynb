{
 "cells": [
  {
   "cell_type": "markdown",
   "metadata": {},
   "source": [
    "### 565. Array Nesting\n",
    " \n",
    "A zero-indexed array A of length N contains all integers from 0 to N-1. Find and return the longest length of set S, where S[i] = {A[i], A[A[i]], A[A[A[i]]], ... } subjected to the rule below.\n",
    "\n",
    "Suppose the first element in S starts with the selection of element A[i] of index = i, the next element in S should be A[A[i]], and then A[A[A[i]]]… By that analogy, we stop adding right before a duplicate element occurs in S."
   ]
  },
  {
   "cell_type": "code",
   "execution_count": 1,
   "metadata": {
    "collapsed": true
   },
   "outputs": [],
   "source": [
    "    def arrayNesting(nums):   # very poor\n",
    "        \"\"\"\n",
    "        :type nums: List[int]\n",
    "        :rtype: int\n",
    "        \"\"\"\n",
    "        def findcircle(nums, pos, l):   # helper function to find one circle\n",
    "            if pos in l:\n",
    "                return l\n",
    "            else:\n",
    "                l.add(pos)\n",
    "                pos = nums[pos]\n",
    "                return findcircle(nums, pos, l)\n",
    "                \n",
    "        def circlelen(nums, visited, maxlen, sumlen):\n",
    "            for pos in set(nums)-visited:\n",
    "                break                    \n",
    "            subnums = findcircle(nums, pos, set())\n",
    "            visited = visited.union(subnums)\n",
    "            newlen = len(subnums)\n",
    "            if newlen > maxlen:\n",
    "                maxlen = newlen\n",
    "            sumlen += newlen\n",
    "            if maxlen >= len(nums) - sumlen:\n",
    "                return maxlen\n",
    "            else:\n",
    "                return circlelen(nums, visited, maxlen, sumlen)\n",
    "            \n",
    "        return circlelen(nums, set(), 0, 0)"
   ]
  },
  {
   "cell_type": "code",
   "execution_count": 2,
   "metadata": {
    "collapsed": true
   },
   "outputs": [],
   "source": [
    "class Solution(object):\n",
    "    def arrayNesting(self, nums):\n",
    "        \"\"\"\n",
    "        :type nums: List[int]\n",
    "        :rtype: int\n",
    "        \"\"\"\n",
    "        \n",
    "        visited = [False]*len(nums)\n",
    "        max_count = 0\n",
    "        for i in range(len(nums)):\n",
    "            count = 1\n",
    "            first = i\n",
    "            if not visited[first]:\n",
    "                next = nums[i]\n",
    "                while next != first:\n",
    "                    count += 1\n",
    "                    visited[next] = True\n",
    "                    next = nums[next]\n",
    "                max_count = max(max_count,count)\n",
    "                visited[i] = True\n",
    "        return max_count"
   ]
  },
  {
   "cell_type": "markdown",
   "metadata": {},
   "source": [
    "the same solution, but different implement method, think why "
   ]
  },
  {
   "cell_type": "markdown",
   "metadata": {},
   "source": [
    "### 39. Combination Sum\n",
    "\n",
    "Given a set of candidate numbers (candidates) (without duplicates) and a target number (target), find all unique combinations in candidates where the candidate numbers sums to target.\n",
    "\n",
    "The same repeated number may be chosen from candidates unlimited number of times.\n",
    "\n",
    "Note:\n",
    "\n",
    "All numbers (including target) will be positive integers.\n",
    "The solution set must not contain duplicate combinations."
   ]
  },
  {
   "cell_type": "code",
   "execution_count": 3,
   "metadata": {
    "collapsed": true
   },
   "outputs": [],
   "source": [
    "class Solution(object):  ## poor\n",
    "    def combinationSum(self, candidates, target):\n",
    "        \"\"\"\n",
    "        :type candidates: List[int]\n",
    "        :type target: int\n",
    "        :rtype: List[List[int]]\n",
    "        \"\"\"\n",
    "        def solutiontry(candidates, target, solutionset, solution,sums):\n",
    "            for i in range(len(candidates)):\n",
    "                if sums + candidates[i] > target:\n",
    "                    continue\n",
    "                else:\n",
    "                    newsolution = solution[:]   # copy may need a lot of runtime\n",
    "                    newsolution.append(candidates[i])\n",
    "                    newsums = sums + candidates[i]\n",
    "                    if sums + candidates[i] == target:\n",
    "                        solutionset.append(newsolution)\n",
    "                    else:\n",
    "                        solutiontry(candidates[i:], target, solutionset, newsolution, newsums)\n",
    "            return solutionset\n",
    "        return solutiontry(candidates, target, [], [], 0)\n",
    "        "
   ]
  },
  {
   "cell_type": "code",
   "execution_count": 4,
   "metadata": {
    "collapsed": true
   },
   "outputs": [],
   "source": [
    "class Solution(object):\n",
    "    def combinationSum(self, candidates, target):\n",
    "        \"\"\"\n",
    "        :type candidates: List[int]\n",
    "        :type target: int\n",
    "        :rtype: List[List[int]]\n",
    "        \"\"\"\n",
    "        candidates.sort()\n",
    "        #print candidates\n",
    "        cand_index = {}\n",
    "        for index,num in enumerate(candidates):\n",
    "            cand_index[num]=index\n",
    "        #print cand_index\n",
    "        results = []\n",
    "        for num in candidates:\n",
    "            if num<target:\n",
    "                result = [[num,num]]\n",
    "                while result:\n",
    "                    r = []\n",
    "                    for i in result:\n",
    "                        for j in candidates[cand_index[i[-2]]:]:\n",
    "                            sum_ = i[-1]\n",
    "                            if sum_+j==target:\n",
    "                                results.append(i[0:-1]+[j])\n",
    "                            elif sum_+j*2<=target:\n",
    "                                r.append(i[0:-1]+[j,sum_+j])\n",
    "                    result = r\n",
    "        if target in cand_index:\n",
    "            results.append([target])\n",
    "        return results"
   ]
  },
  {
   "cell_type": "code",
   "execution_count": 5,
   "metadata": {
    "collapsed": true
   },
   "outputs": [],
   "source": [
    "class Solution(object):      ### important to recite it \n",
    "    \n",
    "    \n",
    "    \n",
    "    def combinationSum(self, candidates, target):\n",
    "        result = []\n",
    "        candidates = sorted(candidates)\n",
    "        def dfs(curr_remain, curr_result):\n",
    "            if curr_remain == 0:\n",
    "                result.append(curr_result)\n",
    "                return \n",
    "\n",
    "            for item in candidates:\n",
    "                if item > curr_remain: \n",
    "                    break\n",
    "                if curr_result and item < curr_result[-1]: \n",
    "                    continue\n",
    "                else:\n",
    "                    dfs(curr_remain - item, curr_result + [item])\n",
    "\n",
    "        dfs(target, [])\n",
    "        return result"
   ]
  },
  {
   "cell_type": "markdown",
   "metadata": {},
   "source": [
    "### 442. Find All Duplicates in an Array (runtime error)\n",
    "\n",
    "Given an array of integers, 1 ≤ a[i] ≤ n (n = size of array), some elements appear twice and others appear once.\n",
    "\n",
    "Find all the elements that appear twice in this array.\n",
    "\n",
    "Could you do it without extra space and in O(n) runtime?"
   ]
  },
  {
   "cell_type": "code",
   "execution_count": 6,
   "metadata": {
    "collapsed": true
   },
   "outputs": [],
   "source": [
    "class Solution(object):\n",
    "    def findDuplicates(self, nums):\n",
    "        \"\"\"\n",
    "        :type nums: List[int]\n",
    "        :rtype: List[int]\n",
    "        \"\"\"\n",
    "        n=len(nums)+1\n",
    "        res=[]\n",
    "        for i in range(n-1):\n",
    "            nums[nums[i]%n-1]+=n\n",
    "        for i in range(n-1):\n",
    "            if nums[i]//n==2:\n",
    "                res.append(i+1)\n",
    "        return res"
   ]
  },
  {
   "cell_type": "code",
   "execution_count": 7,
   "metadata": {
    "collapsed": true
   },
   "outputs": [],
   "source": [
    "class Solution(object):\n",
    "    def findDuplicates(self, nums):\n",
    "        \"\"\"\n",
    "        :type nums: List[int]\n",
    "        :rtype: List[int]\n",
    "        \"\"\"\n",
    "        \n",
    "        # n(n+1)/2 gives sum of numbers 1->n\n",
    "        # sum of numbers in nums \n",
    "            # 4+3+2+7+8+2+3+1 = 30\n",
    "            # n = 8; n(n+1)/2 = 36\n",
    "            # 36 mod 30 = 6 ? [2,3]\n",
    "        \n",
    "        my_set = {}\n",
    "        dup = []\n",
    "        \n",
    "        for n in nums:\n",
    "            if n in my_set:\n",
    "                dup.append(n)\n",
    "            else:\n",
    "                my_set[n] = 1\n",
    "        return dup"
   ]
  },
  {
   "cell_type": "markdown",
   "metadata": {
    "collapsed": true
   },
   "source": [
    "### 832. Flipping an Image\n",
    "\n",
    "Given a binary matrix A, we want to flip the image horizontally, then invert it, and return the resulting image.\n",
    "\n",
    "To flip an image horizontally means that each row of the image is reversed.  For example, flipping [1, 1, 0] horizontally results in [0, 1, 1].\n",
    "\n",
    "To invert an image means that each 0 is replaced by 1, and each 1 is replaced by 0. For example, inverting [0, 1, 1] results in [1, 0, 0]."
   ]
  },
  {
   "cell_type": "code",
   "execution_count": 8,
   "metadata": {
    "collapsed": true
   },
   "outputs": [],
   "source": [
    "class Solution(object):\n",
    "    def flipAndInvertImage(self, A):\n",
    "        \"\"\"\n",
    "        :type A: List[List[int]]\n",
    "        :rtype: List[List[int]]\n",
    "        \"\"\"\n",
    "        B = []\n",
    "        for line in A:\n",
    "            B.append(line[::-1])\n",
    "            B[-1] = [1-num for num in B[-1]]\n",
    "        return B"
   ]
  },
  {
   "cell_type": "markdown",
   "metadata": {},
   "source": [
    "### 769. Max Chunks To Make Sorted\n",
    "\n",
    "Given an array arr that is a permutation of [0, 1, ..., arr.length - 1], we split the array into some number of \"chunks\" (partitions), and individually sort each chunk.  After concatenating them, the result equals the sorted array.\n",
    "\n",
    "What is the most number of chunks we could have made?"
   ]
  },
  {
   "cell_type": "code",
   "execution_count": 26,
   "metadata": {
    "collapsed": true
   },
   "outputs": [],
   "source": [
    "    def maxChunksToSorted(arr):\n",
    "        \"\"\"\n",
    "        :type arr: List[int]\n",
    "        :rtype: int\n",
    "        \"\"\"\n",
    "        r = []\n",
    "        flag = 0\n",
    "        i = 0\n",
    "        while i < len(arr):           \n",
    "            if arr[i] > i:\n",
    "                i = arr[i]\n",
    "            elif arr[i] == i:\n",
    "                r.append([arr[i]])\n",
    "                flag = i + 1\n",
    "                i = flag\n",
    "            else:\n",
    "                maxnum = max(arr[flag:i+1])\n",
    "                if i >= maxnum:\n",
    "                    r.append(arr[flag:i+1])\n",
    "                    flag = i +1\n",
    "                    i = flag\n",
    "                else:\n",
    "                    i = maxnum\n",
    "        if flag < len(arr):\n",
    "            r.append(arr[flag:])\n",
    "        return len(r)\n",
    "                "
   ]
  },
  {
   "cell_type": "code",
   "execution_count": 32,
   "metadata": {},
   "outputs": [],
   "source": [
    "class Solution(object):\n",
    "    def maxChunksToSorted(self, arr):\n",
    "        \"\"\"\n",
    "        :type arr: List[int]\n",
    "        :rtype: int\n",
    "        \"\"\"\n",
    "        cur_max = -1\n",
    "        if len(arr) == 1:\n",
    "            return 1\n",
    "        for idx in range(len(arr)-1):\n",
    "            cur_max = max(cur_max,arr[idx])\n",
    "            if cur_max == idx:\n",
    "                right = arr[idx+1:]\n",
    "                for j in range(len(right)):\n",
    "                    right[j] -= (idx+1)\n",
    "                return self.maxChunksToSorted(arr[:idx+1]) + self.maxChunksToSorted(right)\n",
    "        return 1"
   ]
  },
  {
   "cell_type": "code",
   "execution_count": null,
   "metadata": {
    "collapsed": true
   },
   "outputs": [],
   "source": []
  }
 ],
 "metadata": {
  "kernelspec": {
   "display_name": "Python 3",
   "language": "python",
   "name": "python3"
  },
  "language_info": {
   "codemirror_mode": {
    "name": "ipython",
    "version": 3
   },
   "file_extension": ".py",
   "mimetype": "text/x-python",
   "name": "python",
   "nbconvert_exporter": "python",
   "pygments_lexer": "ipython3",
   "version": "3.6.3"
  }
 },
 "nbformat": 4,
 "nbformat_minor": 2
}
