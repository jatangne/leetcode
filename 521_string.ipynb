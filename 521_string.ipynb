{
 "cells": [
  {
   "cell_type": "markdown",
   "metadata": {},
   "source": [
    "### 344. Reverse String\n",
    "\n",
    "Write a function that takes a string as input and returns the string reversed."
   ]
  },
  {
   "cell_type": "code",
   "execution_count": 1,
   "metadata": {
    "collapsed": true
   },
   "outputs": [],
   "source": [
    "# not good\n",
    "class Solution:\n",
    "    def reverseString(self, s):\n",
    "        \"\"\"\n",
    "        :type s: str\n",
    "        :rtype: str\n",
    "        \"\"\"\n",
    "        r = ''\n",
    "        for i in range(len(s)-1, -1, -1):\n",
    "            r += s[i]\n",
    "        return r"
   ]
  },
  {
   "cell_type": "code",
   "execution_count": 4,
   "metadata": {
    "collapsed": true
   },
   "outputs": [],
   "source": [
    "   def reverseString(s):\n",
    "        \"\"\"\n",
    "        :type s: str\n",
    "        :rtype: str\n",
    "        \"\"\"\n",
    "        return s[::-1]"
   ]
  },
  {
   "cell_type": "markdown",
   "metadata": {},
   "source": [
    "### 520. Detect Capital\n",
    "\n",
    "Given a word, you need to judge whether the usage of capitals in it is right or not.\n",
    "\n",
    "We define the usage of capitals in a word to be right when one of the following cases holds:\n",
    "\n",
    "All letters in this word are capitals, like \"USA\".\n",
    "All letters in this word are not capitals, like \"leetcode\".\n",
    "Only the first letter in this word is capital if it has more than one letter, like \"Google\".\n",
    "Otherwise, we define that this word doesn't use capitals in a right way."
   ]
  },
  {
   "cell_type": "code",
   "execution_count": 27,
   "metadata": {
    "collapsed": true
   },
   "outputs": [],
   "source": [
    "class Solution:\n",
    "    def detectCapitalUse(self, word):\n",
    "        \"\"\"\n",
    "        :type word: str\n",
    "        :rtype: bool\n",
    "        \"\"\"\n",
    "        if word == word.upper() or word == word.lower():\n",
    "            return True\n",
    "        elif ord(word[0]) <= 90 and (word[1:] == word[1:].upper() or word[1:] == word[1:].lower()):\n",
    "            return True\n",
    "        else:\n",
    "            return False"
   ]
  },
  {
   "cell_type": "code",
   "execution_count": 28,
   "metadata": {
    "collapsed": true
   },
   "outputs": [],
   "source": [
    "# Advanced Version\n",
    "class Solution:\n",
    "    def detectCapitalUse(self, word):\n",
    "        \"\"\"\n",
    "        :type word: str\n",
    "        :rtype: bool\n",
    "        \"\"\"\n",
    "        if len(word) == 0:\n",
    "            return True\n",
    "        elif word.isupper() or word.islower():   # isupper, islower\n",
    "            return True\n",
    "        elif len(word) > 1:\n",
    "            return word.istitle()   # istitle\n",
    "        else:\n",
    "            return False"
   ]
  },
  {
   "cell_type": "markdown",
   "metadata": {},
   "source": [
    "### 383. Ransom Note\n",
    "\n",
    "Given an arbitrary ransom note string and another string containing letters from all the magazines, write a function that will return true if the ransom note can be constructed from the magazines ; otherwise, it will return false.\n",
    "\n",
    "Each letter in the magazine string can only be used once in your ransom note."
   ]
  },
  {
   "cell_type": "code",
   "execution_count": 33,
   "metadata": {
    "collapsed": true
   },
   "outputs": [],
   "source": [
    "class Solution:\n",
    "    def canConstruct(self, ransomNote, magazine):\n",
    "        \"\"\"\n",
    "        :type ransomNote: str\n",
    "        :type magazine: str\n",
    "        :rtype: bool\n",
    "        \"\"\"\n",
    "        magazine = list(magazine)\n",
    "        for i in range(len(ransomNote)):\n",
    "            if ransomNote[i] not in magazine:\n",
    "                return False\n",
    "            else:\n",
    "                magazine.remove(ransomNote[i])\n",
    "        return True"
   ]
  },
  {
   "cell_type": "code",
   "execution_count": 34,
   "metadata": {
    "collapsed": true
   },
   "outputs": [],
   "source": [
    "## Advanced version\n",
    "class Solution:\n",
    "    def canConstruct(self, ransomNote, magazine):\n",
    "        \"\"\"\n",
    "        :type ransomNote: str\n",
    "        :type magazine: str\n",
    "        :rtype: bool\n",
    "        \"\"\"\n",
    "        ransome = set(ransomNote)\n",
    "        for i in ransome:\n",
    "            if ransomNote.count(i) > magazine.count(i):\n",
    "                return False\n",
    "        return True"
   ]
  },
  {
   "cell_type": "markdown",
   "metadata": {},
   "source": [
    "### 38. Count and Say\n",
    "\n",
    "The count-and-say sequence is the sequence of integers with the first five terms as following:\n",
    "    "
   ]
  },
  {
   "cell_type": "code",
   "execution_count": 1,
   "metadata": {
    "collapsed": true
   },
   "outputs": [],
   "source": [
    "    def countAndSay(n):    # not good\n",
    "        \"\"\"\n",
    "        :type n: int\n",
    "        :rtype: str\n",
    "        \"\"\"\n",
    "        strn = '1'\n",
    "        def find(strn, n):\n",
    "            if n == 1:\n",
    "                return strn\n",
    "            r = ''\n",
    "            v = strn[0]\n",
    "            count = 1\n",
    "            for i in range(1, len(strn)):\n",
    "                if strn[i] == v:\n",
    "                    count += 1\n",
    "                else:\n",
    "                    r  = r + str(count) + v\n",
    "                    count = 1\n",
    "                    v = strn[i]\n",
    "            r  = r + str(count) + v\n",
    "            return find(r, n - 1)\n",
    "        return find(strn, n)"
   ]
  },
  {
   "cell_type": "code",
   "execution_count": 3,
   "metadata": {
    "collapsed": true
   },
   "outputs": [],
   "source": [
    "class Solution:\n",
    "    def countAndSay(self, n):\n",
    "        s = '1'\n",
    "        \n",
    "        for _ in range(n-1):\n",
    "            let, temp, count = s[0], \"\", 0\n",
    "            for l in s:\n",
    "                if let == l:\n",
    "                    count += 1\n",
    "                else:\n",
    "                    temp += str(count) + let\n",
    "                    let = l\n",
    "                    count = 1\n",
    "            temp += str(count) + let\n",
    "            s = temp\n",
    "        return s"
   ]
  },
  {
   "cell_type": "markdown",
   "metadata": {},
   "source": [
    "### 443. String Compression\n",
    "\n",
    "Given an array of characters, compress it in-place.\n",
    "\n",
    "The length after compression must always be smaller than or equal to the original array.\n",
    "\n",
    "Every element of the array should be a character (not int) of length 1.\n",
    "\n",
    "After you are done modifying the input array in-place, return the new length of the array."
   ]
  },
  {
   "cell_type": "code",
   "execution_count": 14,
   "metadata": {
    "collapsed": true
   },
   "outputs": [],
   "source": [
    "    def compress(chars):\n",
    "        \"\"\"\n",
    "        :type chars: List[str]\n",
    "        :rtype: int\n",
    "        \"\"\"\n",
    "        pos1 = 0  # flag in initial list\n",
    "        pos2 = 0  # flag in new list\n",
    "        count = 1\n",
    "        for i in range(1, len(chars)):\n",
    "            if chars[i] == chars[pos1]:   # same character\n",
    "                count += 1\n",
    "            else:                  # different character\n",
    "                if count == 1:\n",
    "                    pos2 += 1\n",
    "                    chars[pos2] = chars[i]\n",
    "                else:\n",
    "                    num = list(str(count))\n",
    "                    chars[pos2+1: pos2+len(num)+1] = num\n",
    "                    pos2 = pos2+len(num)+1\n",
    "                    chars[pos2] = chars[i]                    \n",
    "                pos1 = i                \n",
    "                count = 1\n",
    "        if count == 1:\n",
    "            pos2 += 1\n",
    "        else:\n",
    "            num = list(str(count))\n",
    "            chars[pos2+1: pos2+len(num)+1] = num\n",
    "            pos2 = pos2+len(num)+1\n",
    "        if pos2 < len(chars):\n",
    "            del chars[pos2:]\n",
    "        return len(chars)"
   ]
  },
  {
   "cell_type": "code",
   "execution_count": 18,
   "metadata": {
    "collapsed": true
   },
   "outputs": [],
   "source": [
    "class Solution:\n",
    "    def compress(self, chars):\n",
    "        \"\"\"\n",
    "        :type chars: List[str]\n",
    "        :rtype: int\n",
    "        \"\"\"\n",
    "        i, j = 0, 0\n",
    "        while (j < len(chars)):\n",
    "            if j == len(chars) - 1:\n",
    "                chars[i] = chars[j]\n",
    "                i += 1\n",
    "                j += 1\n",
    "            elif chars[j] != chars[j + 1]:\n",
    "                chars[i] = chars[j]\n",
    "                i += 1\n",
    "                j += 1\n",
    "            else:\n",
    "                cur = j\n",
    "                while j < len(chars) and chars[j] == chars[cur]:\n",
    "                    j += 1\n",
    "                chars[i] = chars[cur]\n",
    "                i += 1\n",
    "                num = str(j - cur)\n",
    "                for c in num:\n",
    "                    chars[i] = c\n",
    "                    i += 1\n",
    "        return i"
   ]
  },
  {
   "cell_type": "markdown",
   "metadata": {},
   "source": [
    "### 345. Reverse Vowels of a String\n",
    "\n",
    "Write a function that takes a string as input and reverse only the vowels of a string."
   ]
  },
  {
   "cell_type": "code",
   "execution_count": 19,
   "metadata": {
    "collapsed": true
   },
   "outputs": [],
   "source": [
    "    def reverseVowels(self, s):  # not good\n",
    "        \"\"\"\n",
    "        :type s: str\n",
    "        :rtype: str\n",
    "        \"\"\"\n",
    "        pos = []\n",
    "        for i in range(len(s)):\n",
    "            if s[i] in {'a', 'e', 'i', 'o', 'u', 'A', 'E', 'I', 'O', 'U'}:\n",
    "                pos.append(i)\n",
    "        j = 0\n",
    "        ntr = ''\n",
    "        for i in range(len(s)):\n",
    "            if s[i] in {'a', 'e', 'i', 'o', 'u', 'A', 'E', 'I', 'O', 'U'}:\n",
    "                j += 1\n",
    "                ntr += s[pos[-j]]\n",
    "            else:\n",
    "                ntr += s[i]\n",
    "        return ntr"
   ]
  },
  {
   "cell_type": "code",
   "execution_count": 21,
   "metadata": {
    "collapsed": true
   },
   "outputs": [],
   "source": [
    "class Solution:\n",
    "    def reverseVowels(self, s):\n",
    "        \"\"\"\n",
    "        :type s: str\n",
    "        :rtype: str\n",
    "        \"\"\"\n",
    "        vowels = {'a', 'e', 'i', 'o', 'u', 'A', 'E', 'I', 'O', 'U'}\n",
    "        char_list = list(s)\n",
    "        first, last = 0, len(char_list) - 1\n",
    "        while first < last:\n",
    "            while first < last and char_list[first] not in vowels:\n",
    "                first += 1\n",
    "            while first < last and char_list[last] not in vowels:\n",
    "                last -= 1\n",
    "            if first >= last:\n",
    "                break\n",
    "            char_list[first], char_list[last] = char_list[last], char_list[first]\n",
    "            first += 1\n",
    "            last -=1\n",
    "        return \"\".join(char_list)"
   ]
  },
  {
   "cell_type": "markdown",
   "metadata": {},
   "source": [
    "### 387. First Unique Character in a String\n",
    "\n",
    "Given a string, find the first non-repeating character in it and return it's index. If it doesn't exist, return -1."
   ]
  },
  {
   "cell_type": "code",
   "execution_count": 26,
   "metadata": {
    "collapsed": true
   },
   "outputs": [],
   "source": [
    "    def firstUniqChar(s):  # poor\n",
    "        \"\"\"\n",
    "        :type s: str\n",
    "        :rtype: int\n",
    "        \"\"\"\n",
    "        record = {}\n",
    "        char = []\n",
    "        for i in range(len(s)):\n",
    "            if s[i] not in record.keys():\n",
    "                char.append(s[i])\n",
    "                record[s[i]] = [i, 1]\n",
    "            else:\n",
    "                record[s[i]][1] += 1\n",
    "        for c in char:\n",
    "            if record[c][1]== 1:\n",
    "                return record[c][0]\n",
    "        return -1"
   ]
  },
  {
   "cell_type": "code",
   "execution_count": 28,
   "metadata": {
    "collapsed": true
   },
   "outputs": [],
   "source": [
    "class Solution:\n",
    "    def firstUniqChar1(self, s):\n",
    "        \"\"\"\n",
    "        :type s: str\n",
    "        :rtype: int\n",
    "        \"\"\"\n",
    "        if not s:\n",
    "            return -1\n",
    "        elif len(s) == 1:\n",
    "            return 0\n",
    "\n",
    "        result = len(s)\n",
    "        for ch in range(ord('a'), ord('z') + 1):\n",
    "            if s.find(chr(ch)) == -1:\n",
    "                continue\n",
    "            if s.find(chr(ch)) == s.rfind(chr(ch)):\n",
    "                result = min(result, s.find(chr(ch)))\n",
    "        return result if result < len(s) else -1\n",
    "\n",
    "    def firstUniqChar2(self, s):\n",
    "        \"\"\"\n",
    "        :type s: str\n",
    "        :rtype: int\n",
    "        \"\"\"\n",
    "        letters = 'abcdefghijklmnopqrstuvwxyz'\n",
    "        res = len(s)\n",
    "        for x in letters:\n",
    "            lInd = s.find(x)\n",
    "            if lInd != -1 and lInd == s.rfind(x) and res > lInd:\n",
    "                res = lInd\n",
    "        return -1 if len(s) == res else res\n",
    "\n",
    "    def firstUniqChar3(self, s):\n",
    "        \"\"\"\n",
    "        :type s: str\n",
    "        :rtype: int\n",
    "        \"\"\"\n",
    "        letters='abcdefghijklmnopqrstuvwxyz'\n",
    "        \n",
    "        index =[s.index(l) for l in letters if s.count(l) ==1]\n",
    "        return min(index) if len(index) >0 else -1"
   ]
  },
  {
   "cell_type": "markdown",
   "metadata": {},
   "source": [
    "### 696. Count Binary Substrings\n",
    "\n",
    "Give a string s, count the number of non-empty (contiguous) substrings that have the same number of 0's and 1's, and all the 0's and all the 1's in these substrings are grouped consecutively.\n",
    "\n",
    "Substrings that occur multiple times are counted the number of times they occur."
   ]
  },
  {
   "cell_type": "code",
   "execution_count": 52,
   "metadata": {
    "collapsed": true
   },
   "outputs": [],
   "source": [
    "    def countBinarySubstrings(s):\n",
    "        \"\"\"\n",
    "        :type s: str\n",
    "        :rtype: int\n",
    "        \"\"\"\n",
    "        num = 0\n",
    "        for i in range(len(s)-1):    # start point\n",
    "            for j in range(i+1, len(s)):\n",
    "                if s[j] != s[i]:\n",
    "                    print(s[i:j+j-i])\n",
    "                    num += 1\n",
    "                    break\n",
    "        return num"
   ]
  },
  {
   "cell_type": "code",
   "execution_count": 53,
   "metadata": {},
   "outputs": [
    {
     "ename": "TypeError",
     "evalue": "unsupported operand type(s) for -: 'int' and 'str'",
     "output_type": "error",
     "traceback": [
      "\u001b[0;31m---------------------------------------------------------------------------\u001b[0m",
      "\u001b[0;31mTypeError\u001b[0m                                 Traceback (most recent call last)",
      "\u001b[0;32m<ipython-input-53-cb44a4e3fa3c>\u001b[0m in \u001b[0;36m<module>\u001b[0;34m()\u001b[0m\n\u001b[1;32m      1\u001b[0m \u001b[0ms\u001b[0m \u001b[0;34m=\u001b[0m \u001b[0;34m\"10101\"\u001b[0m\u001b[0;34m\u001b[0m\u001b[0m\n\u001b[0;32m----> 2\u001b[0;31m \u001b[0mcountBinarySubstrings\u001b[0m\u001b[0;34m(\u001b[0m\u001b[0ms\u001b[0m\u001b[0;34m)\u001b[0m\u001b[0;34m\u001b[0m\u001b[0m\n\u001b[0m",
      "\u001b[0;32m<ipython-input-52-bf485b42e604>\u001b[0m in \u001b[0;36mcountBinarySubstrings\u001b[0;34m(s)\u001b[0m\n\u001b[1;32m      7\u001b[0m     \u001b[0;32mfor\u001b[0m \u001b[0mi\u001b[0m \u001b[0;32min\u001b[0m \u001b[0mrange\u001b[0m\u001b[0;34m(\u001b[0m\u001b[0mlen\u001b[0m\u001b[0;34m(\u001b[0m\u001b[0ms\u001b[0m\u001b[0;34m)\u001b[0m\u001b[0;34m-\u001b[0m\u001b[0;36m1\u001b[0m\u001b[0;34m)\u001b[0m\u001b[0;34m:\u001b[0m    \u001b[0;31m# start point\u001b[0m\u001b[0;34m\u001b[0m\u001b[0m\n\u001b[1;32m      8\u001b[0m         \u001b[0;32mfor\u001b[0m \u001b[0mj\u001b[0m \u001b[0;32min\u001b[0m \u001b[0mrange\u001b[0m\u001b[0;34m(\u001b[0m\u001b[0mi\u001b[0m\u001b[0;34m+\u001b[0m\u001b[0;36m1\u001b[0m\u001b[0;34m,\u001b[0m \u001b[0mlen\u001b[0m\u001b[0;34m(\u001b[0m\u001b[0ms\u001b[0m\u001b[0;34m)\u001b[0m\u001b[0;34m)\u001b[0m\u001b[0;34m:\u001b[0m\u001b[0;34m\u001b[0m\u001b[0m\n\u001b[0;32m----> 9\u001b[0;31m             \u001b[0;32mif\u001b[0m \u001b[0ms\u001b[0m\u001b[0;34m[\u001b[0m\u001b[0mj\u001b[0m\u001b[0;34m]\u001b[0m \u001b[0;34m!=\u001b[0m \u001b[0ms\u001b[0m\u001b[0;34m[\u001b[0m\u001b[0mi\u001b[0m\u001b[0;34m]\u001b[0m \u001b[0;32mand\u001b[0m \u001b[0;34m(\u001b[0m\u001b[0mj\u001b[0m\u001b[0;34m+\u001b[0m\u001b[0mj\u001b[0m\u001b[0;34m-\u001b[0m\u001b[0mi\u001b[0m \u001b[0;34m<=\u001b[0m \u001b[0mlen\u001b[0m\u001b[0;34m(\u001b[0m\u001b[0ms\u001b[0m\u001b[0;34m)\u001b[0m\u001b[0;34m)\u001b[0m \u001b[0;32mand\u001b[0m \u001b[0ms\u001b[0m\u001b[0;34m[\u001b[0m\u001b[0mi\u001b[0m\u001b[0;34m:\u001b[0m\u001b[0mj\u001b[0m\u001b[0;34m]\u001b[0m \u001b[0;34m==\u001b[0m \u001b[0;36m1\u001b[0m\u001b[0;34m-\u001b[0m\u001b[0ms\u001b[0m\u001b[0;34m[\u001b[0m\u001b[0mj\u001b[0m\u001b[0;34m:\u001b[0m\u001b[0mj\u001b[0m\u001b[0;34m+\u001b[0m\u001b[0mj\u001b[0m\u001b[0;34m-\u001b[0m\u001b[0mi\u001b[0m\u001b[0;34m]\u001b[0m\u001b[0;34m:\u001b[0m\u001b[0;34m\u001b[0m\u001b[0m\n\u001b[0m\u001b[1;32m     10\u001b[0m                 \u001b[0mprint\u001b[0m\u001b[0;34m(\u001b[0m\u001b[0ms\u001b[0m\u001b[0;34m[\u001b[0m\u001b[0mi\u001b[0m\u001b[0;34m:\u001b[0m\u001b[0mj\u001b[0m\u001b[0;34m+\u001b[0m\u001b[0mj\u001b[0m\u001b[0;34m-\u001b[0m\u001b[0mi\u001b[0m\u001b[0;34m]\u001b[0m\u001b[0;34m)\u001b[0m\u001b[0;34m\u001b[0m\u001b[0m\n\u001b[1;32m     11\u001b[0m                 \u001b[0mnum\u001b[0m \u001b[0;34m+=\u001b[0m \u001b[0;36m1\u001b[0m\u001b[0;34m\u001b[0m\u001b[0m\n",
      "\u001b[0;31mTypeError\u001b[0m: unsupported operand type(s) for -: 'int' and 'str'"
     ]
    }
   ],
   "source": [
    "s = \"10101\"\n"
   ]
  },
  {
   "cell_type": "markdown",
   "metadata": {},
   "source": [
    "### 13. Roman to Integer\n",
    "\n",
    "Given a roman numeral, convert it to an integer. Input is guaranteed to be within the range from 1 to 3999."
   ]
  },
  {
   "cell_type": "code",
   "execution_count": 1,
   "metadata": {
    "collapsed": true
   },
   "outputs": [],
   "source": [
    "class Solution:\n",
    "    def romanToInt(self, s):\n",
    "        \"\"\"\n",
    "        :type s: str\n",
    "        :rtype: int\n",
    "        \"\"\"\n",
    "        ref = {'I':1,\n",
    "              'V':5,\n",
    "              'X': 10,\n",
    "              'L': 50,\n",
    "              'C':100,\n",
    "              'D':500,\n",
    "              'M':1000}\n",
    "        ref0 = {'IV': 4,\n",
    "               'IX':9,\n",
    "               'XL':40,\n",
    "               'XC':90,\n",
    "               'CD':400,\n",
    "               'CM':900}\n",
    "        def cal(s, n):\n",
    "            if len(s) >2 and s[0:2] in ref0.keys():\n",
    "                n += ref0[s[0:2]]\n",
    "                return cal(s[2:], n)\n",
    "            elif len(s) == 2 and s[0:2] in ref0.keys():\n",
    "                n += ref0[s[0:2]]\n",
    "                return n\n",
    "            elif len(s) == 1:\n",
    "                n += ref[s[0]]\n",
    "                return n\n",
    "            else:\n",
    "                n += ref[s[0]]\n",
    "                return cal(s[1:], n)\n",
    "            \n",
    "        return cal(s, 0)"
   ]
  },
  {
   "cell_type": "code",
   "execution_count": 2,
   "metadata": {
    "collapsed": true
   },
   "outputs": [],
   "source": [
    "class Solution:\n",
    "    def romanToInt(self, s):\n",
    "        \"\"\"\n",
    "        :type s: str\n",
    "        :rtype: int\n",
    "        \"\"\"\n",
    "        if not s:\n",
    "            return 0\n",
    "        hmap = {\n",
    "            'I': 1,\n",
    "            'V': 5,\n",
    "            'X': 10,\n",
    "            'L': 50,\n",
    "            'C': 100,\n",
    "            'D': 500,\n",
    "            'M': 1000\n",
    "        }\n",
    "        ans = hmap[s[-1]]\n",
    "        for i in range(len(s)-2, -1, -1):\n",
    "            if hmap[s[i]] < hmap[s[i+1]]:\n",
    "                ans -= hmap[s[i]]\n",
    "            else:\n",
    "                ans += hmap[s[i]]\n",
    "        return ans"
   ]
  },
  {
   "cell_type": "markdown",
   "metadata": {},
   "source": [
    "### 415. Add Strings\n",
    "\n",
    "Given two non-negative integers num1 and num2 represented as string, return the sum of num1 and num2."
   ]
  },
  {
   "cell_type": "code",
   "execution_count": 16,
   "metadata": {},
   "outputs": [],
   "source": [
    "    def addStrings(num1, num2):\n",
    "        \"\"\"\n",
    "        :type num1: str\n",
    "        :type num2: str\n",
    "        :rtype: str\n",
    "        \"\"\"\n",
    "        r = ''\n",
    "        flag = 0\n",
    "        if len(num1) > len(num2):\n",
    "            nl = len(num1)\n",
    "            ns = len(num2)\n",
    "        else:\n",
    "            nl = len(num2)\n",
    "            ns = len(num1)\n",
    "        for i in range(-1, -nl-1, -1):\n",
    "            if i > -ns-1:\n",
    "                s = int(num1[i]) + int(num2[i]) + flag\n",
    "            elif len(num1) > len(num2):\n",
    "                s = int(num1[i]) + flag\n",
    "            else:\n",
    "                s = int(num2[i]) + flag\n",
    "            if s > 9:\n",
    "                flag = 1\n",
    "            else:\n",
    "                flag = 0\n",
    "            print(s, flag)\n",
    "            r += str(s%10)\n",
    "        if flag >0 : r+= str(flag)\n",
    "        return r[::-1]"
   ]
  },
  {
   "cell_type": "code",
   "execution_count": 20,
   "metadata": {},
   "outputs": [],
   "source": [
    "class Solution:\n",
    "    def addStrings(self, num1, num2):\n",
    "        \"\"\"\n",
    "        :type num1: str\n",
    "        :type num2: str\n",
    "        :rtype: str\n",
    "        \"\"\"\n",
    "        num1, num2, res, over, step = '0'*(len(num2) - len(num1)) + num1, '0'*(len(num1) - len(num2)) + num2, '', False, 1000\n",
    "        for i in range(0, len(num1), step):\n",
    "            x = int(num1[-(i+step):(-i if i else None)]) + int(num2[-(i+step):(-i if i else None)]) + (1 if over else 0)\n",
    "            over = x >= (10 ** step)\n",
    "            res = '0' * (step - len(str(x))) + (str(x)[1:] if over else str(x)) + res\n",
    "        return '0' if res == '0' * step else (('1' if over else '') + res).lstrip('0')"
   ]
  }
 ],
 "metadata": {
  "kernelspec": {
   "display_name": "Python 3",
   "language": "python",
   "name": "python3"
  },
  "language_info": {
   "codemirror_mode": {
    "name": "ipython",
    "version": 3
   },
   "file_extension": ".py",
   "mimetype": "text/x-python",
   "name": "python",
   "nbconvert_exporter": "python",
   "pygments_lexer": "ipython3",
   "version": "3.6.3"
  }
 },
 "nbformat": 4,
 "nbformat_minor": 2
}
