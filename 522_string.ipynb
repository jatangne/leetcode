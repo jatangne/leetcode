{
 "cells": [
  {
   "cell_type": "markdown",
   "metadata": {},
   "source": [
    "### 657. Judge Route Circle\n",
    "\n",
    "Initially, there is a Robot at position (0, 0). Given a sequence of its moves, judge if this robot makes a circle, which means it moves back to the original place.\n",
    "\n",
    "The move sequence is represented by a string. And each move is represent by a character. The valid robot moves are R (Right), L (Left), U (Up) and D (down). The output should be true or false representing whether the robot makes a circle."
   ]
  },
  {
   "cell_type": "code",
   "execution_count": null,
   "metadata": {
    "collapsed": true
   },
   "outputs": [],
   "source": [
    "    def judgeCircle(moves):\n",
    "        \"\"\"\n",
    "        :type moves: str\n",
    "        :rtype: bool\n",
    "        \"\"\"\n",
    "        steps = {'U':0, 'D':0, 'L':0, 'R':0}\n",
    "        for move in moves:\n",
    "            steps[move] += 1\n",
    "        if steps['U'] == steps['D'] and steps['L'] == steps['R']:\n",
    "            return True\n",
    "        else:\n",
    "            return False"
   ]
  },
  {
   "cell_type": "code",
   "execution_count": 1,
   "metadata": {
    "collapsed": true
   },
   "outputs": [],
   "source": [
    "class Solution:\n",
    "    def judgeCircle(self, moves):\n",
    "        \"\"\"\n",
    "        :type moves: str\n",
    "        :rtype: bool\n",
    "        \"\"\"\n",
    "        return moves.count('U') == moves.count('D') and moves.count('L') == moves.count('R')"
   ]
  },
  {
   "cell_type": "markdown",
   "metadata": {},
   "source": [
    "#### Always remember to use 'count' which should be much faster than using iterations"
   ]
  },
  {
   "cell_type": "markdown",
   "metadata": {},
   "source": [
    "### 557. Reverse Words in a String III\n",
    "\n",
    "Given a string, you need to reverse the order of characters in each word within a sentence while still preserving whitespace and initial word order."
   ]
  },
  {
   "cell_type": "code",
   "execution_count": null,
   "metadata": {
    "collapsed": true
   },
   "outputs": [],
   "source": [
    "    def reverseWords(s):  # very poor, sad\n",
    "        \"\"\" \n",
    "        :type s: str\n",
    "        :rtype: str\n",
    "        \"\"\"\n",
    "        r = ''\n",
    "        flag = -1\n",
    "        for i in range(len(s)):\n",
    "            if s[i] == ' ':\n",
    "                word = s[flag+1:i]\n",
    "                r = r + word[::-1] + ' '\n",
    "            #r += word[::-1]\n",
    "                flag = i\n",
    "        word = s[flag+1:]\n",
    "        r += word[::-1]       \n",
    "\n",
    "        return r"
   ]
  },
  {
   "cell_type": "code",
   "execution_count": null,
   "metadata": {
    "collapsed": true
   },
   "outputs": [],
   "source": [
    "class Solution:\n",
    "    def reverseWords(self, s):\n",
    "        \"\"\"\n",
    "        :type s: str\n",
    "        :rtype: str\n",
    "        \"\"\"\n",
    "        rev_str = s[::-1]\n",
    "        rev_arr = rev_str.split()\n",
    "        final = rev_arr[::-1]\n",
    "        \n",
    "        return ' '.join(map(str, final))"
   ]
  },
  {
   "cell_type": "markdown",
   "metadata": {},
   "source": [
    "#### why I forget str.split?"
   ]
  },
  {
   "cell_type": "markdown",
   "metadata": {
    "collapsed": true
   },
   "source": [
    "### 521. Longest Uncommon Subsequence I\n",
    "\n",
    "Given a group of two strings, you need to find the longest uncommon subsequence of this group of two strings. The longest uncommon subsequence is defined as the longest subsequence of one of these strings and this subsequence should not be any subsequence of the other strings.\n",
    "\n",
    "A subsequence is a sequence that can be derived from one sequence by deleting some characters without changing the order of the remaining elements. Trivially, any string is a subsequence of itself and an empty string is a subsequence of any string.\n",
    "\n",
    "The input will be two strings, and the output needs to be the length of the longest uncommon subsequence. If the longest uncommon subsequence doesn't exist, return -1."
   ]
  },
  {
   "cell_type": "code",
   "execution_count": 8,
   "metadata": {
    "collapsed": true
   },
   "outputs": [],
   "source": [
    "    def findLUSlength(a, b):\n",
    "        \"\"\"\n",
    "        :type a: str\n",
    "        :type b: str\n",
    "        :rtype: int\n",
    "        \"\"\"\n",
    "        r = -1\n",
    "        if a not in b:\n",
    "            r = len(a)\n",
    "        if (b not in a) and (len(b) > len(a)):\n",
    "            r = len(b)\n",
    "        return r"
   ]
  },
  {
   "cell_type": "markdown",
   "metadata": {},
   "source": [
    "### 788. Rotated Digits (Pretty good work from mathematical perspective, well done!!)\n",
    "\n",
    "X is a good number if after rotating each digit individually by 180 degrees, we get a valid number that is different from X.  Each digit must be rotated - we cannot choose to leave it alone.\n",
    "\n",
    "A number is valid if each digit remains a digit after rotation. 0, 1, and 8 rotate to themselves; 2 and 5 rotate to each other; 6 and 9 rotate to each other, and the rest of the numbers do not rotate to any other number and become invalid.\n",
    "\n",
    "Now given a positive number N, how many numbers X from 1 to N are good?"
   ]
  },
  {
   "cell_type": "code",
   "execution_count": 23,
   "metadata": {},
   "outputs": [],
   "source": [
    "    def rotatedDigits(self, N):\n",
    "        \"\"\"\n",
    "        :type N: int\n",
    "        :rtype: int\n",
    "        \"\"\"\n",
    "        set1 = set([0, 1, 8])\n",
    "        l1 = len(set1)\n",
    "        set2 = set([2, 5, 6, 9])\n",
    "        l2 = len(set2)\n",
    "        digits = []\n",
    "        def check(digits, N):\n",
    "            if N == 0:\n",
    "                return \n",
    "            else:\n",
    "                check(digits, int(N/10))\n",
    "                digits.append(N%10)\n",
    "                return\n",
    "        check(digits, N)\n",
    "        nsum = 0\n",
    "        def sumup(digits, flag, nsum):\n",
    "            num1 = sum([v < digits[0] for v in set1])\n",
    "            num2 = sum([v < digits[0] for v in set2])\n",
    "            if flag == 0:\n",
    "                nsum += (num1+num2) * (l1 + l2) **(len(digits)-1) - num1 * l1**(len(digits)-1)\n",
    "            else:\n",
    "                nsum += (num1+num2) * (l1 + l2) **(len(digits)-1)\n",
    "            if len(digits) == 1:\n",
    "                if flag == 1:\n",
    "                    if digits[0] in set1 or digits[0] in set2:\n",
    "                        return nsum +1\n",
    "                    else:\n",
    "                        return nsum\n",
    "                else:\n",
    "                    if digits[0] in set2:\n",
    "                        return nsum +1\n",
    "                    else:\n",
    "                        return nsum\n",
    "            if digits[0] in set2:\n",
    "                flag = 1\n",
    "                return sumup(digits[1:], flag, nsum)\n",
    "            elif digits[0] in set1:\n",
    "                return sumup(digits[1:], flag, nsum)\n",
    "            else:\n",
    "                return nsum\n",
    "        return sumup(digits, 0, nsum)"
   ]
  },
  {
   "cell_type": "markdown",
   "metadata": {},
   "source": [
    "### 819. Most Common Word (no distribution)\n",
    "\n",
    "Given a paragraph and a list of banned words, return the most frequent word that is not in the list of banned words.  It is guaranteed there is at least one word that isn't banned, and that the answer is unique.\n",
    "\n",
    "Words in the list of banned words are given in lowercase, and free of punctuation.  Words in the paragraph are not case sensitive.  The answer is in lowercase."
   ]
  },
  {
   "cell_type": "code",
   "execution_count": 25,
   "metadata": {},
   "outputs": [],
   "source": [
    "    def mostCommonWord(paragraph, banned):\n",
    "        \"\"\"\n",
    "        :type paragraph: str\n",
    "        :type banned: List[str]\n",
    "        :rtype: str\n",
    "        \"\"\"\n",
    "        record = {}\n",
    "        new_paragraph = ''\n",
    "        punc = set([\"!\", \"?\", \"'\", \";\", \".\", \",\"])\n",
    "        for l in paragraph:\n",
    "            if l not in punc:\n",
    "                new_paragraph += l.lower()\n",
    "        \n",
    "        words = new_paragraph.split(\" \")\n",
    "        word_list = set(words) - set(banned)\n",
    "        for word in word_list:\n",
    "            record[word] = words.count(word)\n",
    "        return sorted(record.keys(), key = lambda x: record[x], reverse = True)[0]"
   ]
  },
  {
   "cell_type": "markdown",
   "metadata": {},
   "source": [
    "### 824. Goat Latin (No distribution yet)\n",
    "\n",
    "A sentence S is given, composed of words separated by spaces. Each word consists of lowercase and uppercase letters only.\n",
    "\n",
    "We would like to convert the sentence to \"Goat Latin\" (a made-up language similar to Pig Latin.)\n",
    "\n",
    "The rules of Goat Latin are as follows:\n",
    "\n",
    "If a word begins with a vowel (a, e, i, o, or u), append \"ma\" to the end of the word.\n",
    "For example, the word 'apple' becomes 'applema'.\n",
    " \n",
    "If a word begins with a consonant (i.e. not a vowel), remove the first letter and append it to the end, then add \"ma\".\n",
    "For example, the word \"goat\" becomes \"oatgma\".\n",
    " \n",
    "Add one letter 'a' to the end of each word per its word index in the sentence, starting with 1.\n",
    "For example, the first word gets \"a\" added to the end, the second word gets \"aa\" added to the end and so on.\n",
    "Return the final sentence representing the conversion from S to Goat Latin."
   ]
  },
  {
   "cell_type": "code",
   "execution_count": 32,
   "metadata": {},
   "outputs": [],
   "source": [
    "    def toGoatLatin(S):\n",
    "        \"\"\"\n",
    "        :type S: str\n",
    "        :rtype: str\n",
    "        \"\"\"\n",
    "        words = S.split(' ')\n",
    "        vowels = {'a', 'e', 'i', 'o', 'u', 'A', 'E', 'I', 'O', 'U'}\n",
    "        def change(word, i):\n",
    "            if word[0] not in vowels:\n",
    "                if len(word) == 1:\n",
    "                    word += 'maa'\n",
    "                else:\n",
    "                    word = word[1:]+ word[0] + 'maa'\n",
    "            else:\n",
    "                word += 'maa'\n",
    "            return word + 'a'*i\n",
    "        newS = ' '.join([change(words[i], i) for i in range(len(words))])\n",
    "        return newS"
   ]
  },
  {
   "cell_type": "markdown",
   "metadata": {},
   "source": [
    "### 537. Complex Number Multiplication\n",
    "\n",
    "Given two strings representing two complex numbers.\n",
    "\n",
    "You need to return a string representing their multiplication. Note i2 = -1 according to the definition."
   ]
  },
  {
   "cell_type": "code",
   "execution_count": 39,
   "metadata": {},
   "outputs": [],
   "source": [
    "    def complexNumberMultiply(a, b):\n",
    "        \"\"\"\n",
    "        :type a: str\n",
    "        :type b: str\n",
    "        :rtype: str\n",
    "        \"\"\"\n",
    "        operation = set(['+', '-'])\n",
    "        for i in range(1,len(a)):   # start from one to avoid negative number to be the first one\n",
    "            if a[i] in operation:\n",
    "                break\n",
    "        for j in range(1,len(b)):\n",
    "            if b[j] in operation:\n",
    "                break\n",
    "        real = int(a[:i])*int(b[:j]) - int(a[i+1:-1])*int(b[j+1:-1])\n",
    "        comp = int(a[:i])*int(b[j+1:-1]) + int(a[i+1:-1])*int(b[:j])\n",
    "        return str(real) + \"+\" + str(comp) + \"i\""
   ]
  },
  {
   "cell_type": "code",
   "execution_count": 56,
   "metadata": {
    "collapsed": true
   },
   "outputs": [],
   "source": [
    "class Solution:\n",
    "    def complexNumberMultiply(self, a, b):\n",
    "        \"\"\"\n",
    "        :type a: str\n",
    "        :type b: str\n",
    "        :rtype: str\n",
    "        \"\"\"\n",
    "        a = a.split('+')\n",
    "        b = b.split('+')\n",
    "        a[1] = a[1][:-1]\n",
    "        b[1] = b[1][:-1]\n",
    "        a = list(map(int, a))\n",
    "        b = list(map(int, b))\n",
    "        print(a, b)\n",
    "        r = a[0]*b[0] - a[1]*b[1]\n",
    "        i = a[1]*b[0] + a[0]*b[1]\n",
    "        print(r, i)\n",
    "        return \"{0}+{1}i\".format(r, i)"
   ]
  },
  {
   "cell_type": "markdown",
   "metadata": {},
   "source": [
    "### 791. Custom Sort String\n",
    "\n",
    "S and T are strings composed of lowercase letters. In S, no letter occurs more than once.\n",
    "\n",
    "S was sorted in some custom order previously. We want to permute the characters of T so that they match the order that S was sorted. More specifically, if x occurs before y in S, then x should occur before y in the returned string.\n",
    "\n",
    "Return any permutation of T (as a string) that satisfies this property."
   ]
  },
  {
   "cell_type": "code",
   "execution_count": 63,
   "metadata": {},
   "outputs": [],
   "source": [
    "    def customSortString(S, T): ## well done\n",
    "        \"\"\"\n",
    "        :type S: str\n",
    "        :type T: str\n",
    "        :rtype: str\n",
    "        \"\"\"\n",
    "        record = {}\n",
    "        r = ''\n",
    "        for j in S:\n",
    "            if j in T:\n",
    "                print(j)\n",
    "                r += (j*T.count(j))\n",
    "        ninS = set(T) - set(S)\n",
    "        for k in ninS:\n",
    "            r += (k*T.count(k))\n",
    "        return r"
   ]
  },
  {
   "cell_type": "code",
   "execution_count": 64,
   "metadata": {},
   "outputs": [],
   "source": [
    "    def customSortString(S, T):\n",
    "        \"\"\"\n",
    "        :type S: str\n",
    "        :type T: str\n",
    "        :rtype: str\n",
    "        \"\"\"\n",
    "        freqs = dict()\n",
    "        for char in T:\n",
    "            if char not in freqs:\n",
    "                freqs[char] = 0\n",
    "            freqs[char] += 1\n",
    "        result = []\n",
    "        for char in S:\n",
    "            if char in freqs:\n",
    "                result += [char for x in range(freqs[char])]\n",
    "                del freqs[char]\n",
    "        for char in freqs:\n",
    "            result += [char for x in range(freqs[char])]\n",
    "        return ''.join(result)"
   ]
  },
  {
   "cell_type": "markdown",
   "metadata": {},
   "source": [
    "### 553. Optimal Division\n",
    "\n",
    "Given a list of positive integers, the adjacent integers will perform the float division. For example, [2,3,4] -> 2 / 3 / 4.\n",
    "\n",
    "However, you can add any number of parenthesis at any position to change the priority of operations. You should find out how to add parenthesis to get the maximum result, and return the corresponding expression in string format. Your expression should NOT contain redundant parenthesis."
   ]
  },
  {
   "cell_type": "code",
   "execution_count": 66,
   "metadata": {},
   "outputs": [],
   "source": [
    "    def reorganizeString(S):\n",
    "        \"\"\"\n",
    "        :type S: str\n",
    "        :rtype: str\n",
    "        \"\"\"\n",
    "        record = {}\n",
    "        for char in set(S):\n",
    "            record[char] = S.count(char)\n",
    "        check = sorted(record.keys(), key = lambda x:record[x], reverse = True)\n",
    "        if record[check[0]] > int((len(S) + 1)/2):\n",
    "            return ''\n",
    "        else:   # possible result\n",
    "            r = [0 for i in range(len(S))]\n",
    "            pos = 0\n",
    "            turn = 0\n",
    "            for key in check:\n",
    "                for _ in range(record[key]):\n",
    "                    r[pos] = key\n",
    "                    if pos+2 >= len(S):\n",
    "                        turn += 1\n",
    "                        pos = turn\n",
    "                    else:\n",
    "                        pos += 2\n",
    "            return ''.join(r)"
   ]
  },
  {
   "cell_type": "code",
   "execution_count": 68,
   "metadata": {},
   "outputs": [],
   "source": [
    "from collections import Counter\n",
    "\n",
    "\n",
    "class Solution:\n",
    "    def reorganizeString(self, S):\n",
    "        \"\"\"\n",
    "        :type S: str\n",
    "        :rtype: str\n",
    "        \"\"\"\n",
    "        if len(S) <= 1:\n",
    "            return S\n",
    "\n",
    "        chars = [char for char, count in Counter(S).most_common() for _ in range(count)]\n",
    "        h = math.ceil(len(chars) / 2)\n",
    "        chars[::2], chars[1::2] = chars[:h], chars[h:]\n",
    "        if chars[0] == chars[1]:\n",
    "            return ''\n",
    "        else:\n",
    "            return ''.join(chars)"
   ]
  },
  {
   "cell_type": "markdown",
   "metadata": {},
   "source": [
    "#### I think it is good enough, but it is better to know the package collections"
   ]
  },
  {
   "cell_type": "markdown",
   "metadata": {},
   "source": [
    "### 539. Minimum Time Difference\n",
    "\n",
    "Given a list of 24-hour clock time points in \"Hour:Minutes\" format, find the minimum minutes difference between any two time points in the list."
   ]
  },
  {
   "cell_type": "code",
   "execution_count": 84,
   "metadata": {
    "collapsed": true
   },
   "outputs": [],
   "source": [
    "    def findMinDifference(timePoints):\n",
    "        \"\"\"\n",
    "        :type timePoints: List[str]\n",
    "        :rtype: int\n",
    "        \"\"\"\n",
    "        timenum = []\n",
    "        for timePoint in timePoints:\n",
    "            timenum.append(timePoint[0:2]+timePoint[3:5])\n",
    "        timenum = sorted(timenum, key = lambda x:int(x))\n",
    "        timediff = set([])\n",
    "        def dif(s1, s2):\n",
    "            if int(s1[0:2]) - int(s2[0:2]) > 0:\n",
    "                return (int(s1[0:2]) - int(s2[0:2]) - 1)*60 + int(s1[2:4]) + 60 - int(s2[2:4])\n",
    "            else:\n",
    "                return int(s1[2:4]) - int(s2[2:4])\n",
    "        for i in range(1, len(timenum)):\n",
    "            timediff.add(dif(timenum[i], timenum[i-1]))\n",
    "        timediff.add(24*60 - dif(timenum[-1], timenum[0]))\n",
    "        return min(timediff)"
   ]
  },
  {
   "cell_type": "code",
   "execution_count": 86,
   "metadata": {},
   "outputs": [],
   "source": [
    "    def findMinDifference(timePoints):\n",
    "        \"\"\"\n",
    "        :type timePoints: List[str]\n",
    "        :rtype: int\n",
    "        \"\"\"\n",
    "        if len(timePoints) > 1440: return 0\n",
    "        timeNum = [0] * len(timePoints)\n",
    "        for i in range(len(timePoints)):\n",
    "            timeNum[i] = 60 * int(timePoints[i][:2]) + int(timePoints[i][3:])\n",
    "            \n",
    "        timeNum.sort()\n",
    "        minMin = 24 * 60\n",
    "        for i in range(len(timeNum) - 1):\n",
    "            minMin = min(minMin, timeNum[i + 1] - timeNum[i])\n",
    "        minMin = min(minMin, 24 * 60 + timeNum[0] - timeNum[-1])\n",
    "        return minMin"
   ]
  },
  {
   "cell_type": "code",
   "execution_count": null,
   "metadata": {
    "collapsed": true
   },
   "outputs": [],
   "source": []
  }
 ],
 "metadata": {
  "kernelspec": {
   "display_name": "Python 3",
   "language": "python",
   "name": "python3"
  },
  "language_info": {
   "codemirror_mode": {
    "name": "ipython",
    "version": 3
   },
   "file_extension": ".py",
   "mimetype": "text/x-python",
   "name": "python",
   "nbconvert_exporter": "python",
   "pygments_lexer": "ipython3",
   "version": "3.6.3"
  }
 },
 "nbformat": 4,
 "nbformat_minor": 2
}
