{
 "cells": [
  {
   "cell_type": "markdown",
   "metadata": {},
   "source": [
    "### 287. Find the Duplicate Number\n",
    "\n",
    "Given an array nums containing n + 1 integers where each integer is between 1 and n (inclusive), prove that at least one duplicate number must exist. Assume that there is only one duplicate number, find the duplicate one."
   ]
  },
  {
   "cell_type": "code",
   "execution_count": 1,
   "metadata": {
    "collapsed": true
   },
   "outputs": [],
   "source": [
    "class Solution(object):\n",
    "    def findDuplicate(self, nums):\n",
    "        \"\"\"\n",
    "        :type nums: List[int]\n",
    "        :rtype: int\n",
    "        \"\"\"\n",
    "        find = set()\n",
    "        for i in range(len(nums)):\n",
    "            if nums[i] not in find:\n",
    "                find.add(nums[i])\n",
    "            else:\n",
    "                return nums[i]"
   ]
  },
  {
   "cell_type": "code",
   "execution_count": 2,
   "metadata": {
    "collapsed": true
   },
   "outputs": [],
   "source": [
    "class Solution(object):   # don't understand\n",
    "    def findDuplicate(self, nums):\n",
    "        \"\"\"\n",
    "        :type nums: List[int]\n",
    "        :rtype: int\n",
    "        \"\"\"\n",
    "        head = fast = slow = nums[0]\n",
    "\n",
    "        while True:   # faster scan\n",
    "            slow = nums[slow]\n",
    "            fast = nums[nums[fast]]\n",
    "            if fast == slow:\n",
    "                break\n",
    "\n",
    "        while head != slow:  # why we need this step\n",
    "            head = nums[head]\n",
    "            slow = nums[slow]\n",
    "\n",
    "        return head"
   ]
  },
  {
   "cell_type": "markdown",
   "metadata": {},
   "source": [
    "https://leetcode.com/problems/find-the-duplicate-number/solution/\n",
    "Floyd's Tortoise and Hare (Cycle Detection) "
   ]
  },
  {
   "cell_type": "markdown",
   "metadata": {},
   "source": [
    "### 524. Longest Word in Dictionary through Deleting\n",
    "\n",
    "Given a string and a string dictionary, find the longest string in the dictionary that can be formed by deleting some characters of the given string. If there are more than one possible results, return the longest word with the smallest lexicographical order. If there is no possible result, return the empty string."
   ]
  },
  {
   "cell_type": "code",
   "execution_count": 4,
   "metadata": {
    "collapsed": true
   },
   "outputs": [],
   "source": [
    "class Solution(object):\n",
    "    def findLongestWord(self, s, d):\n",
    "        \"\"\"\n",
    "        :type s: str\n",
    "        :type d: List[str]\n",
    "        :rtype: str\n",
    "        \"\"\"\n",
    "        d = sorted(d)  # sorting in lexicographical order\n",
    "        d = sorted(d, key=len, reverse=True)   # sorting according to the length\n",
    "        for c in d:\n",
    "            tmp_s = s\n",
    "            index = 0\n",
    "            while index < len(c):\n",
    "                if c[index] not in tmp_s:\n",
    "                    break\n",
    "                tmp_s = tmp_s[tmp_s.index(c[index]) + 1:]\n",
    "                index += 1\n",
    "            if index == len(c):\n",
    "                return c\n",
    "        return ''"
   ]
  },
  {
   "cell_type": "markdown",
   "metadata": {},
   "source": [
    "s.index()"
   ]
  },
  {
   "cell_type": "markdown",
   "metadata": {},
   "source": [
    "### 11. Container With Most Water\n",
    "\n",
    "Given n non-negative integers a1, a2, ..., an, where each represents a point at coordinate (i, ai). n vertical lines are drawn such that the two endpoints of line i is at (i, ai) and (i, 0). Find two lines, which together with x-axis forms a container, such that the container contains the most water.\n",
    "\n",
    "Note: You may not slant the container and n is at least 2."
   ]
  },
  {
   "cell_type": "code",
   "execution_count": 5,
   "metadata": {
    "collapsed": true
   },
   "outputs": [],
   "source": [
    "class Solution(object):\n",
    "    def maxArea(self, height):\n",
    "        \"\"\"\n",
    "        :type height: List[int]\n",
    "        :rtype: int\n",
    "        \"\"\"\n",
    "        most = 0\n",
    "        start = 0\n",
    "        end = len(height)-1\n",
    "        line1 = start\n",
    "        line2 = end\n",
    "        while end > start:\n",
    "            area = (end - start)*min(height[start], height[end])\n",
    "            if area >= most:\n",
    "                most = area\n",
    "                line1 = start\n",
    "                line2 = end\n",
    "            if height[start] < height[end]:\n",
    "                start += 1\n",
    "            else:\n",
    "                end -= 1\n",
    "        return most"
   ]
  },
  {
   "cell_type": "code",
   "execution_count": 6,
   "metadata": {
    "collapsed": true
   },
   "outputs": [],
   "source": [
    "class Solution(object):\n",
    "    def maxArea(self, height):\n",
    "        \"\"\"\n",
    "        :type height: List[int]\n",
    "        :rtype: int\n",
    "        \"\"\"\n",
    "        area=0\n",
    "        i=0;\n",
    "        j=len(height)-1\n",
    "        while(i<j):\n",
    "            if height[i]<height[j]:\n",
    "                tmp=(j-i)*height[i]\n",
    "                i+=1\n",
    "                if tmp>area:\n",
    "                    area=tmp\n",
    "            else:\n",
    "                tmp=(j-i)*height[j]\n",
    "                j-=1\n",
    "                if tmp>area:\n",
    "                    area=tmp\n",
    "\n",
    "        return area"
   ]
  },
  {
   "cell_type": "markdown",
   "metadata": {},
   "source": [
    "### 209. Minimum Size Subarray Sum\n",
    "\n",
    "Given an array of n positive integers and a positive integer s, find the minimal length of a contiguous subarray of which the sum ≥ s. If there isn't one, return 0 instead."
   ]
  },
  {
   "cell_type": "code",
   "execution_count": 7,
   "metadata": {
    "collapsed": true
   },
   "outputs": [],
   "source": [
    " class Solution(object):\n",
    "    def minSubArrayLen(self, s, nums):\n",
    "        \"\"\"\n",
    "        :type s: int\n",
    "        :type nums: List[int]\n",
    "        :rtype: int\n",
    "        \"\"\"\n",
    "        total = 0\n",
    "        start = 0\n",
    "        n = len(nums)\n",
    "        l = n + 1\n",
    "        for i in range(n):\n",
    "            total += nums[i]\n",
    "            while total >= s:\n",
    "                l = min(l, i + 1 - start)\n",
    "                total -= nums[start]\n",
    "                start += 1\n",
    "        if l > n:\n",
    "            return 0\n",
    "        else:\n",
    "            return l"
   ]
  },
  {
   "cell_type": "markdown",
   "metadata": {},
   "source": [
    "### 18. 4Sum\n",
    "\n",
    "Given an array nums of n integers and an integer target, are there elements a, b, c, and d in nums such that a + b + c + d = target? Find all unique quadruplets in the array which gives the sum of target.\n",
    "\n",
    "Note:\n",
    "\n",
    "The solution set must not contain duplicate quadruplets."
   ]
  },
  {
   "cell_type": "code",
   "execution_count": 9,
   "metadata": {
    "collapsed": true
   },
   "outputs": [],
   "source": [
    "class Solution(object):\n",
    "    def fourSum(self, nums, target):\n",
    "        \"\"\"\n",
    "        :type nums: List[int]\n",
    "        :type target: int\n",
    "        :rtype: List[List[int]]\n",
    "        \"\"\"\n",
    "        d = dict()\n",
    "        for i in range(len(nums)-1):\n",
    "            for j in range(i+1,len(nums)):\n",
    "                sum2 = nums[i]+nums[j]\n",
    "                if sum2 in d:\n",
    "                    d[sum2].append((i,j))\n",
    "                else:\n",
    "                    d[sum2] = [(i,j)]\n",
    "        \n",
    "        result = set()\n",
    "        for key in d:\n",
    "            value = target - key\n",
    "            if value in d:\n",
    "                list1 = d[key]\n",
    "                list2 = d[value]\n",
    "                for (i,j) in list1:\n",
    "                    for (k,l) in list2:\n",
    "                        if i!=k and i!=l and j!=k and j!=l:\n",
    "                            flist = [nums[i],nums[j],nums[k],nums[l]]\n",
    "                            flist.sort()\n",
    "                            result.add(tuple(flist))\n",
    "        return list(result)  "
   ]
  },
  {
   "cell_type": "code",
   "execution_count": 10,
   "metadata": {
    "collapsed": true
   },
   "outputs": [],
   "source": [
    "class Solution(object):\n",
    "    def binarySearch(self, nums, left, right, target):\n",
    "        while left <= right:\n",
    "            mid = (left + right)/2\n",
    "            if nums[mid] < target:\n",
    "                left = mid + 1\n",
    "            elif nums[mid] > target:\n",
    "                right = mid - 1\n",
    "            else:\n",
    "                return mid\n",
    "        return left\n",
    "    \n",
    "    def fourSum(self, nums, target):\n",
    "        n = len(nums)\n",
    "        result = []\n",
    "        snum = sorted(nums)\n",
    "        if n == 0:\n",
    "            return result\n",
    "        if target > snum[n-1] * 4 or target < snum[0] * 4:\n",
    "            return result\n",
    "        for i in xrange(n-3):\n",
    "            if i > 0 and snum[i] == snum[i-1]:\n",
    "                continue\n",
    "            elif target < 4 * snum[i]:\n",
    "                break\n",
    "            else:\n",
    "                if target - snum[i] > snum[n-1] * 3:\n",
    "                    continue\n",
    "                for j in range(i+1, n-2):\n",
    "                    if j > i+1 and snum[j] == snum[j-1]:\n",
    "                        continue\n",
    "                    elif target - snum[i] - snum[j] > snum[n-1] * 2:\n",
    "                        continue\n",
    "                    elif target - snum[i] < snum[j] * 3: \n",
    "                        break\n",
    "                    else:\n",
    "                        k = j+1\n",
    "                        curTarget = target - snum[i] - snum[j]\n",
    "                        if curTarget < snum[k] * 2:\n",
    "                            break\n",
    "                        index = self.binarySearch(snum, k+1, n-1, curTarget-snum[k])\n",
    "                        if index == n:\n",
    "                            index -= 1\n",
    "                        while(k < index):\n",
    "                            if snum[k] + snum[index] == curTarget:\n",
    "                                result.append([snum[i], snum[j], snum[k], snum[index]])\n",
    "                                while index > 0 and snum[index-1] == snum[index]:\n",
    "                                    index -= 1\n",
    "                                index -= 1\n",
    "                                while k < n-1 and snum[k] == snum[k+1]:\n",
    "                                    k += 1\n",
    "                                k += 1\n",
    "                            elif snum[k] + snum[index] < curTarget:\n",
    "                                k += 1\n",
    "                            else:\n",
    "                                index -= 1\n",
    "        return result"
   ]
  },
  {
   "cell_type": "markdown",
   "metadata": {},
   "source": [
    "### 15. 3Sum （haven't come up with a valid solution）\n",
    "\n",
    "Given an array nums of n integers, are there elements a, b, c in nums such that a + b + c = 0? Find all unique triplets in the array which gives the sum of zero.\n",
    "\n",
    "Note:\n",
    "\n",
    "The solution set must not contain duplicate triplets."
   ]
  },
  {
   "cell_type": "code",
   "execution_count": 11,
   "metadata": {
    "collapsed": true
   },
   "outputs": [],
   "source": [
    "class Solution:\n",
    "    def threeSum(self, nums):\n",
    "        \"\"\"\n",
    "        :type nums: List[int]\n",
    "        :rtype: List[List[int]]\n",
    "        \"\"\"\n",
    "        res = []\n",
    "        nums.sort()\n",
    "        for i in range(len(nums)-2):\n",
    "          if i == 0 or nums[i] != nums[i-1]:\n",
    "            sum2 = - nums[i]\n",
    "            lo, hi = i + 1, len(nums) - 1\n",
    "            while lo < hi:\n",
    "              sum = nums[lo] + nums[hi]\n",
    "              if sum == sum2:\n",
    "                res.append([nums[i], nums[lo], nums[hi]])\n",
    "                lo += 1\n",
    "                while lo < len(nums) and nums[lo] == nums[lo-1]:\n",
    "                  lo += 1\n",
    "                hi -= 1\n",
    "                while hi>=0 and nums[hi] == nums[hi+1]:\n",
    "                  hi -= 1\n",
    "              elif sum < sum2:\n",
    "                lo += 1\n",
    "              else:\n",
    "                hi -= 1\n",
    "        return res"
   ]
  },
  {
   "cell_type": "markdown",
   "metadata": {},
   "source": [
    "### 19. Remove Nth Node From End of List\n",
    "\n",
    "Given a linked list, remove the n-th node from the end of list and return its head."
   ]
  },
  {
   "cell_type": "code",
   "execution_count": 12,
   "metadata": {
    "collapsed": true
   },
   "outputs": [],
   "source": [
    "class Solution(object):\n",
    "    def removeNthFromEnd(self, head, n):\n",
    "        \"\"\"\n",
    "        :type head: ListNode\n",
    "        :type n: int\n",
    "        :rtype: ListNode\n",
    "        \"\"\"\n",
    "        p = ListNode(0)\n",
    "        p.next =  head\n",
    "        total = 0\n",
    "        while head:\n",
    "            total += 1\n",
    "            head = head.next\n",
    "        th = total - n\n",
    "        current = p\n",
    "        while current:\n",
    "            if th == 0:\n",
    "                current.next = current.next.next\n",
    "            th -= 1\n",
    "            current = current.next\n",
    "        return p.next"
   ]
  },
  {
   "cell_type": "code",
   "execution_count": 13,
   "metadata": {
    "collapsed": true
   },
   "outputs": [],
   "source": [
    "class Solution(object):   # interesting, need to think twice\n",
    "    def removeNthFromEnd(self, head, n):\n",
    "        \"\"\"\n",
    "        :type head: ListNode\n",
    "        :type n: int\n",
    "        :rtype: ListNode\n",
    "        \"\"\"\n",
    "        fast = slow = head\n",
    "        for _ in range(n):\n",
    "            fast = fast.next\n",
    "        if not fast:\n",
    "            return head.next\n",
    "        while fast.next:\n",
    "            fast = fast.next\n",
    "            slow = slow.next\n",
    "        slow.next = slow.next.next\n",
    "        return head"
   ]
  },
  {
   "cell_type": "markdown",
   "metadata": {},
   "source": [
    "### 567. Permutation in String (exceed time limit)\n",
    "\n",
    "Given two strings s1 and s2, write a function to return true if s2 contains the permutation of s1. In other words, one of the first string's permutations is the substring of the second string."
   ]
  },
  {
   "cell_type": "code",
   "execution_count": 16,
   "metadata": {},
   "outputs": [],
   "source": [
    "class Solution:\n",
    "    def checkInclusion(self, s1, s2):\n",
    "        if len(s2) < len(s1): return False\n",
    "        count1, count2 = collections.defaultdict(int), collections.defaultdict(int)\n",
    "        for i in range(len(s1)):\n",
    "            count1[s1[i]] += 1\n",
    "            count2[s2[i]] += 1\n",
    "        i = 0\n",
    "        for j in range(len(s1), len(s2) + 1):\n",
    "            if count1 == count2: return True\n",
    "            if j < len(s2): count2[s2[j]] += 1\n",
    "            count2[s2[i]] -= 1 \n",
    "            if count2[s2[i]] == 0: count2.pop(s2[i])\n",
    "            i += 1\n",
    "        return False"
   ]
  },
  {
   "cell_type": "code",
   "execution_count": 17,
   "metadata": {
    "collapsed": true
   },
   "outputs": [],
   "source": [
    "class Solution(object):\n",
    "    def checkInclusion(self, s1, s2):\n",
    "        \"\"\"\n",
    "        :type s1: str\n",
    "        :type s2: str\n",
    "        :rtype: bool\n",
    "        \"\"\"\n",
    "        if not s2 or len(s2)<len(s1): return False\n",
    "        if not s1: return True\n",
    "    \n",
    "        d={}\n",
    "        l1 = []\n",
    "        cnt = 0\n",
    "        for i in s1:\n",
    "            if i not in d:\n",
    "                d[i]=cnt\n",
    "                cnt+=1\n",
    "                l1.append(1)\n",
    "            else:\n",
    "                l1[d[i]]+=1\n",
    "        # return l1\n",
    "        \n",
    "        l2 = [0]*len(l1)\n",
    "        for i in s2[:len(s1)]:\n",
    "            if i in d:\n",
    "                l2[d[i]]+=1\n",
    "        \n",
    "        if l2==l1: return True\n",
    "        \n",
    "        for i in range(len(s2)-len(s1)):\n",
    "            if s2[i] in d:\n",
    "                l2[d[s2[i]]]-=1\n",
    "            if s2[i+len(s1)] in d:    \n",
    "                l2[d[s2[i+len(s1)]]]+=1\n",
    "            if l2==l1: return True\n",
    "        else:\n",
    "            return False"
   ]
  },
  {
   "cell_type": "markdown",
   "metadata": {},
   "source": [
    ".defaultdic()"
   ]
  },
  {
   "cell_type": "markdown",
   "metadata": {},
   "source": [
    "### 3. Longest Substring Without Repeating Characters\n",
    "\n",
    "Given a string, find the length of the longest substring without repeating characters."
   ]
  },
  {
   "cell_type": "code",
   "execution_count": 18,
   "metadata": {
    "collapsed": true
   },
   "outputs": [],
   "source": [
    "class Solution(object):  ## poor\n",
    "    def lengthOfLongestSubstring(self, s):\n",
    "        \"\"\"\n",
    "        :type s: str\n",
    "        :rtype: int\n",
    "        \"\"\"\n",
    "        r = 0\n",
    "        visited = {}\n",
    "        start = 0\n",
    "        end = -1\n",
    "        for i in range(len(s)):\n",
    "            if s[i] not in set(s[start:i]):\n",
    "                end = i\n",
    "            else:\n",
    "                r = max(r, end-start+1)\n",
    "                start = visited[s[i]] + 1\n",
    "            visited[s[i]] = i\n",
    "        return max(r, end-start+1)"
   ]
  },
  {
   "cell_type": "code",
   "execution_count": 19,
   "metadata": {
    "collapsed": true
   },
   "outputs": [],
   "source": [
    "class Solution(object):\n",
    "    def lengthOfLongestSubstring(self, s):\n",
    "        \"\"\"\n",
    "        :type s: str\n",
    "        :rtype: int\n",
    "        \"\"\"\n",
    "        maxl = 0\n",
    "        last_appear = {}\n",
    "        start = 0\n",
    "        \n",
    "        for i, c in enumerate(s):\n",
    "            if c in last_appear and last_appear[c] >= start:\n",
    "                l = i - start\n",
    "                if l > maxl:\n",
    "                    maxl = l\n",
    "                start = last_appear[c] + 1\n",
    "            last_appear[c] = i\n",
    "            \n",
    "        l = len(s) - start\n",
    "        if l > maxl:\n",
    "            maxl = l\n",
    "        return maxl"
   ]
  },
  {
   "cell_type": "markdown",
   "metadata": {},
   "source": [
    "### 713. Subarray Product Less Than K\n",
    "\n",
    "Your are given an array of positive integers nums.\n",
    "\n",
    "Count and print the number of (contiguous) subarrays where the product of all the elements in the subarray is less than k."
   ]
  },
  {
   "cell_type": "code",
   "execution_count": 20,
   "metadata": {
    "collapsed": true
   },
   "outputs": [],
   "source": [
    "class Solution(object):\n",
    "    def numSubarrayProductLessThanK(self, nums, k):\n",
    "        \"\"\"\n",
    "        :type nums: List[int]\n",
    "        :type k: int\n",
    "        :rtype: int\n",
    "        \"\"\"\n",
    "        r = 0\n",
    "        mul = 1\n",
    "        start = 0\n",
    "        for i in range(len(nums)):   # good, used what I learned before\n",
    "            mul *= nums[i]\n",
    "            while mul >= k:\n",
    "                if start > i:\n",
    "                    break\n",
    "                mul /= nums[start]\n",
    "                start += 1\n",
    "            r += (i-start+1)\n",
    "        return r"
   ]
  },
  {
   "cell_type": "code",
   "execution_count": null,
   "metadata": {
    "collapsed": true
   },
   "outputs": [],
   "source": [
    "class Solution(object):   # very similar to mine, but why this one is faster?\n",
    "    def numSubarrayProductLessThanK(self, nums, k):\n",
    "        \"\"\"\n",
    "        :type nums: List[int]\n",
    "        :type k: int\n",
    "        :rtype: int\n",
    "        \"\"\"\n",
    "        \n",
    "        if k <= 1:   \n",
    "            return 0\n",
    "        \n",
    "        subs, left, prod = 0, 0, 1\n",
    "        \n",
    "        for right, val in enumerate(nums):\n",
    "        \n",
    "            prod *= val\n",
    "            \n",
    "            while prod >= k:\n",
    "                prod /= nums[left]\n",
    "                left += 1\n",
    "            \n",
    "            subs += right - left + 1\n",
    "            \n",
    "        return subs"
   ]
  }
 ],
 "metadata": {
  "kernelspec": {
   "display_name": "Python 3",
   "language": "python",
   "name": "python3"
  },
  "language_info": {
   "codemirror_mode": {
    "name": "ipython",
    "version": 3
   },
   "file_extension": ".py",
   "mimetype": "text/x-python",
   "name": "python",
   "nbconvert_exporter": "python",
   "pygments_lexer": "ipython3",
   "version": "3.6.3"
  }
 },
 "nbformat": 4,
 "nbformat_minor": 2
}
